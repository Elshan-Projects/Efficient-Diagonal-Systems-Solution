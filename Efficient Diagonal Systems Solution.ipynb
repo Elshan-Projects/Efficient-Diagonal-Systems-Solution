{
 "cells": [
  {
   "cell_type": "markdown",
   "metadata": {},
   "source": [
    "# Problem Statement"
   ]
  },
  {
   "cell_type": "markdown",
   "metadata": {},
   "source": [
    "<img src=\"Problem Statement.png\">"
   ]
  },
  {
   "cell_type": "markdown",
   "metadata": {},
   "source": [
    "# Solution\n",
    "\n",
    "### Forward Elimination Procedure"
   ]
  },
  {
   "cell_type": "code",
   "execution_count": 1,
   "metadata": {},
   "outputs": [],
   "source": [
    "# The function below is to perform forward elimination of the Gauss method\n",
    "def X_Gauss(n,a,d,b):\n",
    "\tmid1= n//2\n",
    "\n",
    "# Here we divide a_i values for which i>n/2\n",
    "# We divide it by corresponding d values (pivots)\n",
    "# On the picture its a5-a6\n",
    "\tq=0\n",
    "\tw=n\n",
    "\twhile ( w > (mid1+1) ):\n",
    "\t\ta[w-1] = a[w-1]/d[q]\n",
    "\t\tw=w-1\n",
    "\t\tq=q+1\n",
    "\n",
    "# Here set the center value to one, since it is in center i=n/2\n",
    "# It corresponds to a4 on the picture\n",
    "\ta[mid1]=1\n",
    "\n",
    "# Performing divison by the pivot value\n",
    "# b1-b4\n",
    "\tfor j in range(mid1+1):\n",
    "\t\tb[j]=b[j]/d[j]\n",
    "\n",
    "# Setting upper d entries to 1 (These are leading 1's) \n",
    "# d1-d4 on the picture\n",
    "\tfor i in range(mid1+1):\n",
    "\t\td[i]=1\n",
    "\n",
    "\n",
    "# Finishing the procedure for lower pivot points (d's) and b's\n",
    "# d5-d7 & b5-b7\n",
    "\tl=2\n",
    "\tfor z in range ((mid1+1), n):\n",
    "\t\td[z]=d[z] - a[z]*a[z-l]\n",
    "\t\tb[z]=b[z] - b[z-l]*a[z-l]\n",
    "\t\tl=l+2\n",
    "\n",
    "# Clearing our matrix from zero entries below leading 1's\n",
    "# a1-a3\n",
    "\tfor k in range(mid1):\n",
    "\t\ta[k] = 0\n",
    "\n",
    "# Dividing the rest of b's by pivot points of their respective rows\n",
    "\tfor y in range((mid1+1), n):\n",
    "\t\tb[y]=b[y]/d[y]\n",
    "\n",
    "# Making lower d values leading coefficients\n",
    "# On the picture its dividing d5-d7 by d5-d7\n",
    "\tfor vv in range( (mid1+1), n ):\n",
    "\t\td[vv]=1\n",
    "\n",
    "\treturn a, d, b"
   ]
  },
  {
   "cell_type": "markdown",
   "metadata": {},
   "source": [
    "### Back substitution procedure"
   ]
  },
  {
   "cell_type": "code",
   "execution_count": 2,
   "metadata": {},
   "outputs": [],
   "source": [
    "# The function below is to perform back substitution of the Gauss method\n",
    "def X_Solve(n,a,d,b):\n",
    "\tmid2 = n//2\n",
    "# x is the solution vector found by back substitution\n",
    "\tx = [None]*n\n",
    "\tfor qq in range(mid2,n):\n",
    "\t\tx[qq]=b[qq]\n",
    "\n",
    "\tfor tt in range(mid2):\n",
    "\t\tx[tt] = b[tt] - a[n-1-tt]*x[n-1-tt]\n",
    "\n",
    "\treturn x"
   ]
  },
  {
   "cell_type": "markdown",
   "metadata": {},
   "source": [
    "### Testing the functions"
   ]
  },
  {
   "cell_type": "code",
   "execution_count": 3,
   "metadata": {},
   "outputs": [
    {
     "name": "stdout",
     "output_type": "stream",
     "text": [
      "The solution is\n",
      "[1.0, 2.0, 3.0, 4.0, 5.0]\n"
     ]
    }
   ],
   "source": [
    "# Testing my functions\n",
    "# I use the same strcutre as it is in the task on the midterm exam\n",
    "N1 = 5\n",
    "A1 = [5, -10, 7, 5, 4]\n",
    "D1 = [2, -3, 7, 12, -8 ]\n",
    "B1 = [22, 14, 21, 28, -35]\n",
    "\n",
    "aa, dd, bb = X_Gauss(N1,A1,D1,B1)\n",
    "\n",
    "X = X_Solve(N1,aa,dd,bb)\n",
    "# The result is [1.0, 2.0, 3.0, 4.0, 5.0] as expected\n",
    "print(\"The solution is\")\n",
    "print(X)"
   ]
  },
  {
   "cell_type": "code",
   "execution_count": null,
   "metadata": {},
   "outputs": [],
   "source": []
  }
 ],
 "metadata": {
  "kernelspec": {
   "display_name": "Python 3",
   "language": "python",
   "name": "python3"
  },
  "language_info": {
   "codemirror_mode": {
    "name": "ipython",
    "version": 3
   },
   "file_extension": ".py",
   "mimetype": "text/x-python",
   "name": "python",
   "nbconvert_exporter": "python",
   "pygments_lexer": "ipython3",
   "version": "3.8.5"
  }
 },
 "nbformat": 4,
 "nbformat_minor": 4
}
